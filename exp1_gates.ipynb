{
 "cells": [
  {
   "cell_type": "code",
   "execution_count": 1,
   "id": "6f1d7052-6e4c-4868-bc25-390954470f5c",
   "metadata": {},
   "outputs": [],
   "source": [
    "import numpy as np"
   ]
  },
  {
   "cell_type": "code",
   "execution_count": 2,
   "id": "61e885b1-b7e1-4a6e-932e-96e9b7be2e9a",
   "metadata": {},
   "outputs": [],
   "source": [
    "def perceptron(inputs,weights, bias):\n",
    "    weighted_sum = np.dot(inputs,weights) + bias\n",
    "    return int(weighted_sum>=0)"
   ]
  },
  {
   "cell_type": "code",
   "execution_count": 3,
   "id": "b583b915-db85-4277-a55e-7f12a4c1f6ec",
   "metadata": {},
   "outputs": [],
   "source": [
    "def and_gate(x1,x2):\n",
    "    weights = np.array([1,1])\n",
    "    bias = -1.5\n",
    "    inputs = np.array([x1,x2])\n",
    "    return perceptron(inputs, weights, bias)"
   ]
  },
  {
   "cell_type": "code",
   "execution_count": 7,
   "id": "49ecf408-9c0b-48f4-8aca-de6c97e2f4b3",
   "metadata": {},
   "outputs": [],
   "source": [
    "def or_gate(x1,x2):\n",
    "    weights = np.array([1,1])\n",
    "    bias = -0.5\n",
    "    inputs = np.array([x1,x2])\n",
    "    return perceptron(inputs, weights, bias)"
   ]
  },
  {
   "cell_type": "code",
   "execution_count": 8,
   "id": "a8d601b4-85ac-46f8-9e7d-dfa5e3284c2d",
   "metadata": {},
   "outputs": [],
   "source": [
    "def not_gate(x):\n",
    "    weights = np.array([-1])\n",
    "    bias = 0.5\n",
    "    inputs = np.array([x])\n",
    "    return perceptron(inputs, weights, bias)"
   ]
  },
  {
   "cell_type": "code",
   "execution_count": 11,
   "id": "b9c5d2d5-711b-4652-9351-2300356abac7",
   "metadata": {},
   "outputs": [],
   "source": [
    "def nand_gate(x1,x2):\n",
    "    return not_gate(and_gate(x1,x2))"
   ]
  },
  {
   "cell_type": "code",
   "execution_count": 12,
   "id": "da0b8043-a534-492b-8ab2-f904f1adafd1",
   "metadata": {},
   "outputs": [],
   "source": [
    "def nor_gate(x1,x2):\n",
    "    return not_gate(or_gate(x1,x2))"
   ]
  },
  {
   "cell_type": "code",
   "execution_count": 13,
   "id": "da0ff8a2-21f4-4ad9-a34f-04f6d2152fd6",
   "metadata": {},
   "outputs": [],
   "source": [
    "def xor_gate(x1,x2):\n",
    "    nand_out = nand_gate(x1,x2)\n",
    "    or_out = or_gate(x1,x2)\n",
    "    return and_gate(nand_out,or_out)"
   ]
  },
  {
   "cell_type": "code",
   "execution_count": 14,
   "id": "125fc705-76cc-49a3-aebd-00477f5f6663",
   "metadata": {},
   "outputs": [
    {
     "name": "stdin",
     "output_type": "stream",
     "text": [
      "enter x1 1\n",
      "enter x2 0\n"
     ]
    }
   ],
   "source": [
    "x1 = int(input(\"enter x1\"))\n",
    "x2 = int(input(\"enter x2\"))\n",
    "and_output = and_gate(x1,x2)\n",
    "or_output = or_gate(x1,x2)\n",
    "not_gate_x1 = not_gate(x1)\n",
    "not_gate_x2 = not_gate(x2)\n",
    "nand_output = nand_gate(x1,x2)\n",
    "nor_output = nor_gate(x1,x2)\n",
    "xor_output = xor_gate(x1,x2)\n"
   ]
  },
  {
   "cell_type": "code",
   "execution_count": 15,
   "id": "f820329c-cad5-4335-a7e4-4b433816485d",
   "metadata": {},
   "outputs": [
    {
     "name": "stdout",
     "output_type": "stream",
     "text": [
      "AND = 0\n",
      "OR = 1\n",
      "NOT X1 = 0\n",
      "NOT X2 = 1\n",
      "NAND = 1\n",
      "NOR = 0\n",
      "XOR = 1\n"
     ]
    }
   ],
   "source": [
    "print(f\"AND = {and_output}\")\n",
    "print(f\"OR = {or_output}\")\n",
    "print(f\"NOT X1 = {not_gate_x1}\")\n",
    "print(f\"NOT X2 = {not_gate_x2}\")\n",
    "print(f\"NAND = {nand_output}\")\n",
    "print(f\"NOR = {nor_output}\")\n",
    "print(f\"XOR = {xor_output}\")"
   ]
  }
 ],
 "metadata": {
  "kernelspec": {
   "display_name": "Python 3 (ipykernel)",
   "language": "python",
   "name": "python3"
  },
  "language_info": {
   "codemirror_mode": {
    "name": "ipython",
    "version": 3
   },
   "file_extension": ".py",
   "mimetype": "text/x-python",
   "name": "python",
   "nbconvert_exporter": "python",
   "pygments_lexer": "ipython3",
   "version": "3.12.3"
  }
 },
 "nbformat": 4,
 "nbformat_minor": 5
}
